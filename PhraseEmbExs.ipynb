{
 "cells": [
  {
   "cell_type": "code",
   "execution_count": 4,
   "metadata": {
    "scrolled": true
   },
   "outputs": [
    {
     "name": "stderr",
     "output_type": "stream",
     "text": [
      "/opt/conda/lib/python3.7/site-packages/smart_open/smart_open_lib.py:398: UserWarning: This function is deprecated, use smart_open.open instead. See the migration notes for details: https://github.com/RaRe-Technologies/smart_open/blob/master/README.rst#migrating-to-the-new-open-function\n",
      "  'See the migration notes for details: %s' % _MIGRATION_NOTES_URL\n"
     ]
    }
   ],
   "source": [
    "# imports needed and logging\n",
    "import gensim \n",
    "import logging\n",
    "\n",
    "\n",
    "#loading the model \n",
    "loadingModel1 = gensim.models.Word2Vec.load('model.bin')\n"
   ]
  },
  {
   "cell_type": "code",
   "execution_count": 12,
   "metadata": {},
   "outputs": [
    {
     "data": {
      "text/plain": [
       "[('video_surveillance_system', 0.7864066362380981),\n",
       " ('video_surveillance_camera', 0.7373775839805603),\n",
       " ('video_surveillance_center', 0.7152436971664429),\n",
       " ('video_surveillance_systems', 0.7102088928222656),\n",
       " ('video_surveillance_data', 0.7046847343444824),\n",
       " ('video_surveillance_cameras', 0.6902071833610535),\n",
       " ('surveillance_system', 0.6779013872146606),\n",
       " ('video_surveillance_processing', 0.66222083568573),\n",
       " ('checkout_security', 0.6578803658485413),\n",
       " ('video_monitoring', 0.6542941331863403),\n",
       " ('surveillance_areas', 0.635010838508606),\n",
       " ('specific_camera', 0.6322271823883057),\n",
       " ('surveillance_zones', 0.6305269002914429),\n",
       " ('mri_safety', 0.6303080916404724),\n",
       " ('video_surveillance_display', 0.623730480670929),\n",
       " ('client_unit_information', 0.6236952543258667),\n",
       " ('camera_servers', 0.6184476613998413),\n",
       " ('surveillance_video_router', 0.6174486875534058),\n",
       " ('audio_monitoring', 0.6111078262329102),\n",
       " ('client_unit_information_list', 0.6102574467658997),\n",
       " ('video_surveillance_processing_method', 0.6019917130470276),\n",
       " ('desired_pan_motor', 0.5977957844734192),\n",
       " ('video_surveillance_content', 0.5965151786804199),\n",
       " ('fixed_cameras', 0.595199465751648),\n",
       " ('video_capture', 0.5940248966217041),\n",
       " ('video_surveillance_method', 0.5930169820785522),\n",
       " ('video_analytics', 0.5898904204368591),\n",
       " ('live_video', 0.5857968330383301),\n",
       " ('desired_pan_motor_step', 0.5851680040359497),\n",
       " ('desired_pan_motor_step_count', 0.5846132040023804)]"
      ]
     },
     "execution_count": 12,
     "metadata": {},
     "output_type": "execute_result"
    }
   ],
   "source": [
    "loadingModel1.wv.most_similar(positive = 'video_surveillance',topn=30)"
   ]
  },
  {
   "cell_type": "code",
   "execution_count": 6,
   "metadata": {},
   "outputs": [
    {
     "data": {
      "text/plain": [
       "[('quantum_cryptography_communication', 0.8145843744277954),\n",
       " ('quantum_cryptography_system', 0.8046867251396179),\n",
       " ('quantum_cryptography_communication_apparatus', 0.8027744293212891),\n",
       " ('quantum_communication', 0.7630491852760315),\n",
       " ('qkd_stations', 0.75831139087677),\n",
       " ('quantum_cryptography_apparatus', 0.7474133968353271),\n",
       " ('quantum_signal', 0.7460787296295166),\n",
       " ('quantum_receiver', 0.7324514985084534),\n",
       " ('qkd_system', 0.7286403179168701),\n",
       " ('single-photon_signals', 0.7250221967697144),\n",
       " ('quantum_encryption_key', 0.7201659679412842),\n",
       " ('quantum_encryption', 0.7162023186683655),\n",
       " ('quantum_communication_system', 0.7010916471481323),\n",
       " ('quantum_signals', 0.6934938430786133),\n",
       " ('quantum_encryption_receiver_apparatus', 0.6798486113548279),\n",
       " ('quantum_encryption_receiver', 0.6797122955322266),\n",
       " ('single-photon_signal', 0.6782178282737732),\n",
       " ('quantum_node', 0.6755971908569336),\n",
       " ('quantum_receiver_apparatus', 0.6734057664871216),\n",
       " ('quantum_optical', 0.6722800135612488),\n",
       " ('quantum_encryption_key_distribution', 0.6708993315696716),\n",
       " ('quantum_key_distribution', 0.6658504009246826),\n",
       " ('quantum_key', 0.664517879486084),\n",
       " ('alternative_payment_system', 0.6601508259773254),\n",
       " ('specific_encryption', 0.6583849191665649),\n",
       " ('cryptographic_communications', 0.6544503569602966),\n",
       " ('quantum_key_delivering_method_communication', 0.6513450145721436),\n",
       " ('asymmetric_mach-zehnder', 0.6475334167480469),\n",
       " ('quantum_key_distribution_qkd', 0.6397308111190796),\n",
       " ('quantum_key_delivering', 0.6396516561508179)]"
      ]
     },
     "execution_count": 6,
     "metadata": {},
     "output_type": "execute_result"
    }
   ],
   "source": [
    "loadingModel1.wv.most_similar(positive = 'quantum_cryptography',topn=30)"
   ]
  },
  {
   "cell_type": "code",
   "execution_count": 27,
   "metadata": {},
   "outputs": [
    {
     "name": "stderr",
     "output_type": "stream",
     "text": [
      "/opt/conda/lib/python3.6/site-packages/gensim/matutils.py:737: FutureWarning: Conversion of the second argument of issubdtype from `int` to `np.signedinteger` is deprecated. In future, it will be treated as `np.int64 == np.dtype(int).type`.\n",
      "  if np.issubdtype(vec.dtype, np.int):\n"
     ]
    },
    {
     "data": {
      "text/plain": [
       "[('water-soluble_packaging', 0.7158925533294678),\n",
       " ('solid_enzyme', 0.7106876373291016),\n",
       " ('water-insoluble_substrate', 0.666519284248352),\n",
       " ('keratanase', 0.6653027534484863),\n",
       " ('water-soluble_high-molecular', 0.6636603474617004),\n",
       " ('water_soluble_compositions', 0.6617227792739868),\n",
       " ('surfactant_water-soluble', 0.6584582328796387),\n",
       " ('neopullulanase', 0.6451261639595032),\n",
       " ('cyclodextrin_glucanotransferase', 0.6445387601852417),\n",
       " ('granulation_auxiliary', 0.640255868434906),\n",
       " ('alcohol_oxidase', 0.6357269883155823),\n",
       " ('enzyme_active', 0.6325460076332092),\n",
       " ('hypoallergenic_wheat_flour', 0.6301135420799255),\n",
       " ('borate_boric_acid', 0.6298108696937561),\n",
       " ('antiredeposition_agent', 0.6289262175559998),\n",
       " ('hydrated_hydrogels', 0.6262733340263367),\n",
       " ('substrate_therewith', 0.6243332624435425),\n",
       " ('water-soluble_polysaccharides', 0.6237554550170898),\n",
       " ('aqueous_silk_fibroin_solution', 0.6229546070098877),\n",
       " ('aqueous_admixture', 0.6214446425437927),\n",
       " ('core_cleaning', 0.6207132935523987),\n",
       " ('aqueous_silk_fibroin', 0.6196941137313843),\n",
       " ('bleaching_activator', 0.6195589900016785),\n",
       " ('water_soluble_gelatin-free_dip_coatings', 0.6194573640823364),\n",
       " ('builder_salt', 0.6194348931312561),\n",
       " ('water-soluble_filler', 0.6186110973358154),\n",
       " ('converted_starches', 0.6182395219802856),\n",
       " ('ester_substrate', 0.6178936958312988),\n",
       " ('crosslinked_superabsorbent_polymer', 0.6174455881118774),\n",
       " ('comportent', 0.6173436641693115)]"
      ]
     },
     "execution_count": 27,
     "metadata": {},
     "output_type": "execute_result"
    }
   ],
   "source": [
    "loadingModel1.wv.most_similar(positive = 'enzyme_stabilizer',topn=30)"
   ]
  },
  {
   "cell_type": "code",
   "execution_count": 25,
   "metadata": {},
   "outputs": [
    {
     "name": "stderr",
     "output_type": "stream",
     "text": [
      "/opt/conda/lib/python3.6/site-packages/gensim/matutils.py:737: FutureWarning: Conversion of the second argument of issubdtype from `int` to `np.signedinteger` is deprecated. In future, it will be treated as `np.int64 == np.dtype(int).type`.\n",
      "  if np.issubdtype(vec.dtype, np.int):\n"
     ]
    },
    {
     "data": {
      "text/plain": [
       "[('automatic_dishwasher_detergents', 0.8292155265808105),\n",
       " ('automatic_dishwasher_detergent', 0.7834630608558655),\n",
       " ('mechanical_dishwashing', 0.7765133380889893),\n",
       " ('mechanical_dishwashing_process', 0.7555763721466064),\n",
       " ('rinse_aid', 0.7540383338928223),\n",
       " ('automatic_dishwashing', 0.747553288936615),\n",
       " ('machine_dishwashing', 0.7464980483055115),\n",
       " ('dishwashing_cycle', 0.724929690361023),\n",
       " ('improved_rinsing_performance', 0.7230821847915649),\n",
       " ('laundry_additive', 0.715583324432373),\n",
       " ('detergency_booster', 0.7151027917861938),\n",
       " ('dishwashing_machines', 0.7105147242546082),\n",
       " ('wash_rinse', 0.7102888822555542),\n",
       " ('soiled_articles', 0.7087904810905457),\n",
       " ('automatic_dishwashers', 0.706400990486145)]"
      ]
     },
     "execution_count": 25,
     "metadata": {},
     "output_type": "execute_result"
    }
   ],
   "source": [
    "loadingModel1.wv.most_similar(positive = 'automatic_dishwasher',topn=15)"
   ]
  },
  {
   "cell_type": "code",
   "execution_count": 14,
   "metadata": {},
   "outputs": [
    {
     "name": "stderr",
     "output_type": "stream",
     "text": [
      "/opt/conda/lib/python3.6/site-packages/gensim/matutils.py:737: FutureWarning: Conversion of the second argument of issubdtype from `int` to `np.signedinteger` is deprecated. In future, it will be treated as `np.int64 == np.dtype(int).type`.\n",
      "  if np.issubdtype(vec.dtype, np.int):\n"
     ]
    },
    {
     "data": {
      "text/plain": [
       "[('anti-fogging', 0.7115399241447449),\n",
       " ('anti-fog', 0.6566379070281982),\n",
       " ('antifog', 0.6470068693161011),\n",
       " ('fogging', 0.5677565336227417),\n",
       " ('ultraviolet-absorbing', 0.5404715538024902),\n",
       " ('waterdrop', 0.538816511631012),\n",
       " ('stain-proofing', 0.5218857526779175),\n",
       " ('water-repellent', 0.5030199885368347),\n",
       " ('non-fogging', 0.5000327825546265),\n",
       " ('antistatic', 0.49686551094055176),\n",
       " ('defogging', 0.4955891966819763),\n",
       " ('oil-repellency', 0.4946824610233307),\n",
       " ('antifouling', 0.4936828017234802),\n",
       " ('oil-repellent', 0.49255919456481934),\n",
       " ('hydrophilizing', 0.49206316471099854),\n",
       " ('anti-soiling', 0.49148327112197876),\n",
       " ('sunlight-reflecting', 0.4903598427772522),\n",
       " ('topcoating', 0.48908090591430664)]"
      ]
     },
     "execution_count": 14,
     "metadata": {},
     "output_type": "execute_result"
    }
   ],
   "source": [
    "loadingModel1.wv.most_similar(positive = 'antifogging',topn=18)\n"
   ]
  },
  {
   "cell_type": "code",
   "execution_count": 2,
   "metadata": {},
   "outputs": [
    {
     "name": "stderr",
     "output_type": "stream",
     "text": [
      "/opt/conda/lib/python3.6/site-packages/gensim/matutils.py:737: FutureWarning: Conversion of the second argument of issubdtype from `int` to `np.signedinteger` is deprecated. In future, it will be treated as `np.int64 == np.dtype(int).type`.\n",
      "  if np.issubdtype(vec.dtype, np.int):\n"
     ]
    },
    {
     "data": {
      "text/plain": [
       "[('peroxy_bleach', 0.8305889964103699),\n",
       " ('detergent-active_compounds', 0.8162670135498047),\n",
       " ('organic_peroxyacid', 0.8122346997261047),\n",
       " ('solid_bleach', 0.8119391202926636),\n",
       " ('bleach_activator', 0.809649646282196),\n",
       " ('organic_peroxyacid_bleach', 0.8019166588783264),\n",
       " ('particulate_bleach', 0.8018976449966431),\n",
       " ('bleach_catalyst', 0.8003808259963989),\n",
       " ('oxygen-based_bleaching', 0.7948142290115356),\n",
       " ('macrocyclic_tetra', 0.7927520275115967),\n",
       " ('bleach_granules', 0.7892934083938599),\n",
       " ('maximum_aluminium_zeolite', 0.7883577942848206),\n",
       " ('stable_liquid_detergent_compositions', 0.7872880697250366),\n",
       " ('builder_mixture', 0.7811959981918335),\n",
       " ('detergency_builder', 0.7793478965759277),\n",
       " ('peroxyacid_bleach', 0.778045117855072),\n",
       " ('fabric_washing', 0.7768994569778442),\n",
       " ('laundry_detergent', 0.7768981456756592),\n",
       " ('bleaching_compositions', 0.7766047716140747),\n",
       " ('peroxy_bleach_compound', 0.7748672962188721),\n",
       " ('solid_bleach_activator', 0.7742506265640259),\n",
       " ('manganese_bleach', 0.7729918360710144),\n",
       " ('detergency_builders', 0.7712976336479187),\n",
       " ('detergent-active_compound', 0.7704612016677856),\n",
       " ('manganese_bleach_catalyst', 0.7697058320045471),\n",
       " ('zeolite_builder', 0.7690960764884949),\n",
       " ('specific_cellulase', 0.7688864469528198),\n",
       " ('solid_bleach_activator_compositions', 0.7687736749649048),\n",
       " ('metal-containing_bleach', 0.7684316635131836),\n",
       " ('coated_bleach_particle', 0.7680937647819519)]"
      ]
     },
     "execution_count": 2,
     "metadata": {},
     "output_type": "execute_result"
    }
   ],
   "source": [
    "loadingModel1.wv.most_similar(positive = 'bleach_system',topn=30)"
   ]
  },
  {
   "cell_type": "code",
   "execution_count": 12,
   "metadata": {},
   "outputs": [
    {
     "name": "stderr",
     "output_type": "stream",
     "text": [
      "/opt/conda/lib/python3.6/site-packages/gensim/matutils.py:737: FutureWarning: Conversion of the second argument of issubdtype from `int` to `np.signedinteger` is deprecated. In future, it will be treated as `np.int64 == np.dtype(int).type`.\n",
      "  if np.issubdtype(vec.dtype, np.int):\n"
     ]
    },
    {
     "data": {
      "text/plain": [
       "[('anti-foaming', 0.7878472208976746),\n",
       " ('defoaming', 0.6629444360733032),\n",
       " ('surface-active', 0.6588650941848755),\n",
       " ('defoamers', 0.6386908292770386),\n",
       " ('thickening', 0.6174445748329163),\n",
       " ('antifoam', 0.6158990263938904),\n",
       " ('antisettling', 0.6114418506622314),\n",
       " ('defoamer', 0.6024683713912964),\n",
       " ('anti-caking', 0.60166996717453),\n",
       " ('wetting', 0.5909743905067444),\n",
       " ('antifoaming_agents', 0.5903604030609131),\n",
       " ('anticaking', 0.5837095975875854),\n",
       " ('emulsifying', 0.5796273946762085),\n",
       " ('viscosity-controlling', 0.5744014382362366),\n",
       " ('flatting', 0.5740001201629639),\n",
       " ('demulsifying', 0.5729987621307373),\n",
       " ('anti-mould', 0.5704805850982666),\n",
       " ('anti-freeze', 0.569568395614624),\n",
       " ('de-emulsifying', 0.5691624879837036),\n",
       " ('thixotropy', 0.567540168762207),\n",
       " ('foaming', 0.5667370557785034),\n",
       " ('sprayability', 0.5628501176834106),\n",
       " ('polyalkyleneglycols', 0.5618017911911011),\n",
       " ('pearlizing', 0.5612608194351196),\n",
       " ('anti-settling', 0.5604937076568604),\n",
       " ('antiblocking', 0.5594123005867004),\n",
       " ('water-reducing', 0.5574055910110474),\n",
       " ('pigment-dispersing', 0.556130051612854),\n",
       " ('antifoaming_agent', 0.554807722568512),\n",
       " ('foam-inhibiting', 0.5547471046447754)]"
      ]
     },
     "execution_count": 12,
     "metadata": {},
     "output_type": "execute_result"
    }
   ],
   "source": [
    "loadingModel1.wv.most_similar(positive = 'antifoaming',topn=30)"
   ]
  },
  {
   "cell_type": "code",
   "execution_count": 20,
   "metadata": {},
   "outputs": [
    {
     "name": "stderr",
     "output_type": "stream",
     "text": [
      "/opt/conda/lib/python3.6/site-packages/gensim/matutils.py:737: FutureWarning: Conversion of the second argument of issubdtype from `int` to `np.signedinteger` is deprecated. In future, it will be treated as `np.int64 == np.dtype(int).type`.\n",
      "  if np.issubdtype(vec.dtype, np.int):\n"
     ]
    },
    {
     "data": {
      "text/plain": [
       "[('carcinoma', 0.8309869766235352),\n",
       " ('tumor', 0.8209645748138428),\n",
       " ('cancers', 0.8044834136962891),\n",
       " ('malignant', 0.7974940538406372),\n",
       " ('tumors', 0.7584835886955261),\n",
       " ('melanoma', 0.7328701019287109),\n",
       " ('malignancy', 0.7314584255218506),\n",
       " ('glioma', 0.7283586263656616),\n",
       " ('tumour', 0.7233468294143677),\n",
       " ('carcinomas', 0.7213045358657837),\n",
       " ('tumours', 0.7208135724067688),\n",
       " ('neoplasia', 0.703693151473999),\n",
       " ('colorectal', 0.700258731842041),\n",
       " ('anticancer', 0.6979513168334961),\n",
       " ('anti-cancer', 0.6909141540527344)]"
      ]
     },
     "execution_count": 20,
     "metadata": {},
     "output_type": "execute_result"
    }
   ],
   "source": [
    "loadingModel1.wv.most_similar(positive = 'cancer',topn=15)"
   ]
  },
  {
   "cell_type": "code",
   "execution_count": 21,
   "metadata": {},
   "outputs": [
    {
     "name": "stderr",
     "output_type": "stream",
     "text": [
      "/opt/conda/lib/python3.6/site-packages/gensim/matutils.py:737: FutureWarning: Conversion of the second argument of issubdtype from `int` to `np.signedinteger` is deprecated. In future, it will be treated as `np.int64 == np.dtype(int).type`.\n",
      "  if np.issubdtype(vec.dtype, np.int):\n"
     ]
    },
    {
     "data": {
      "text/plain": [
       "[('rights', 0.6676899194717407),\n",
       " ('drm-enabted', 0.6295790672302246),\n",
       " ('digital_radio_mondiale', 0.616150975227356),\n",
       " ('drm_media', 0.6048556566238403),\n",
       " ('client_authorization_server', 0.5904147624969482),\n",
       " ('drm_media_content_data', 0.5843607187271118),\n",
       " ('asset1', 0.5824654698371887),\n",
       " ('drm_media_content', 0.5823328495025635),\n",
       " ('encryption_content', 0.5555716753005981),\n",
       " ('mondiale', 0.5489549040794373),\n",
       " ('drm_content_format', 0.5485656261444092),\n",
       " ('drm_tool', 0.5352728366851807),\n",
       " ('interoperable_digital_rights', 0.532317578792572),\n",
       " ('interoperable_digital_rights_management', 0.5280706882476807),\n",
       " ('system-shared', 0.5264444947242737)]"
      ]
     },
     "execution_count": 21,
     "metadata": {},
     "output_type": "execute_result"
    }
   ],
   "source": [
    "loadingModel1.wv.most_similar(positive = 'drm',topn=15)"
   ]
  },
  {
   "cell_type": "code",
   "execution_count": 31,
   "metadata": {},
   "outputs": [
    {
     "name": "stderr",
     "output_type": "stream",
     "text": [
      "/opt/conda/lib/python3.6/site-packages/gensim/matutils.py:737: FutureWarning: Conversion of the second argument of issubdtype from `int` to `np.signedinteger` is deprecated. In future, it will be treated as `np.int64 == np.dtype(int).type`.\n",
      "  if np.issubdtype(vec.dtype, np.int):\n"
     ]
    },
    {
     "data": {
      "text/plain": [
       "[('thermal_solar', 0.7929733991622925),\n",
       " ('solar_collector_modules', 0.7792675495147705),\n",
       " ('solar_collectors', 0.7680568695068359),\n",
       " ('solar_radiation', 0.7581228017807007),\n",
       " ('solar_energy', 0.7508021593093872),\n",
       " ('solar_collector_frame', 0.7496115565299988),\n",
       " ('solar_collector_apparatus', 0.7423291206359863),\n",
       " ('solar_collector_device', 0.7189029455184937),\n",
       " ('solar_concentrator', 0.7180606126785278),\n",
       " ('solar_turbine', 0.7117584943771362),\n",
       " ('solar_energy_collector', 0.705940306186676),\n",
       " ('solar_collector_unit', 0.7052841186523438),\n",
       " ('compound_glazing', 0.6968241333961487),\n",
       " ('fastening_solar', 0.6967942714691162),\n",
       " ('solar_heat_collector', 0.6956387758255005)]"
      ]
     },
     "execution_count": 31,
     "metadata": {},
     "output_type": "execute_result"
    }
   ],
   "source": [
    "loadingModel1.wv.most_similar(positive = 'solar_collector',topn=15)"
   ]
  },
  {
   "cell_type": "code",
   "execution_count": 32,
   "metadata": {},
   "outputs": [
    {
     "name": "stderr",
     "output_type": "stream",
     "text": [
      "/opt/conda/lib/python3.6/site-packages/gensim/matutils.py:737: FutureWarning: Conversion of the second argument of issubdtype from `int` to `np.signedinteger` is deprecated. In future, it will be treated as `np.int64 == np.dtype(int).type`.\n",
      "  if np.issubdtype(vec.dtype, np.int):\n"
     ]
    },
    {
     "data": {
      "text/plain": [
       "[('heart_disease', 0.77215576171875),\n",
       " ('heart_failure_risk', 0.7662158012390137),\n",
       " ('cardiac_dysfunction', 0.7594078779220581),\n",
       " ('heart_failure_treatment', 0.75388503074646),\n",
       " ('left_ventricular_hypertrophy', 0.7517064809799194),\n",
       " ('atrial_ventricular_cardiac_arrhythmias', 0.7474299669265747),\n",
       " ('diastolic_dysfunction', 0.7434446811676025),\n",
       " ('cardiac_disease', 0.7206189632415771),\n",
       " ('systolic_hypertension', 0.7168556451797485),\n",
       " ('myocardial_ischemia', 0.7151772975921631),\n",
       " ('diastolic_heart', 0.7144402265548706),\n",
       " ('cardiac_conditions', 0.7106227278709412),\n",
       " ('progressive_renal', 0.7103080749511719),\n",
       " ('cardiac_remodeling', 0.7093687057495117),\n",
       " ('diastolic_heart_failure', 0.7092467546463013)]"
      ]
     },
     "execution_count": 32,
     "metadata": {},
     "output_type": "execute_result"
    }
   ],
   "source": [
    "loadingModel1.wv.most_similar(positive = 'heart_failure',topn=15)"
   ]
  },
  {
   "cell_type": "code",
   "execution_count": 35,
   "metadata": {},
   "outputs": [
    {
     "name": "stderr",
     "output_type": "stream",
     "text": [
      "/opt/conda/lib/python3.6/site-packages/gensim/matutils.py:737: FutureWarning: Conversion of the second argument of issubdtype from `int` to `np.signedinteger` is deprecated. In future, it will be treated as `np.int64 == np.dtype(int).type`.\n",
      "  if np.issubdtype(vec.dtype, np.int):\n"
     ]
    },
    {
     "data": {
      "text/plain": [
       "[('kidney_stone_removal', 0.8054296970367432),\n",
       " ('sweeping_structure', 0.7588996291160583),\n",
       " ('kidney_stone_disease', 0.6833645105361938),\n",
       " ('renal_nerves', 0.6394969820976257),\n",
       " ('device_distal', 0.6364424824714661),\n",
       " ('non-invasive_treatment', 0.6348049640655518),\n",
       " ('aorticorenal_ganglion', 0.6299124956130981),\n",
       " ('selective_photothermolysis', 0.6247518062591553),\n",
       " ('cardiac_renal', 0.6155318021774292),\n",
       " ('upper_urinary_tract', 0.6143655776977539),\n",
       " ('focused_shock_wave', 0.6110493540763855),\n",
       " ('upper_urinary', 0.6078571081161499),\n",
       " ('focused_shock', 0.6056917905807495),\n",
       " ('compton_camera', 0.6050060987472534),\n",
       " ('laser_lithotripsy', 0.5990310907363892)]"
      ]
     },
     "execution_count": 35,
     "metadata": {},
     "output_type": "execute_result"
    }
   ],
   "source": [
    "loadingModel1.wv.most_similar(positive = 'kidney_stone',topn=15) \n"
   ]
  },
  {
   "cell_type": "code",
   "execution_count": 38,
   "metadata": {},
   "outputs": [
    {
     "name": "stderr",
     "output_type": "stream",
     "text": [
      "/opt/conda/lib/python3.6/site-packages/gensim/matutils.py:737: FutureWarning: Conversion of the second argument of issubdtype from `int` to `np.signedinteger` is deprecated. In future, it will be treated as `np.int64 == np.dtype(int).type`.\n",
      "  if np.issubdtype(vec.dtype, np.int):\n"
     ]
    },
    {
     "data": {
      "text/plain": [
       "[('keyword_extraction_unit', 0.8752385377883911),\n",
       " ('conversion_keyword', 0.7637186646461487),\n",
       " ('extracted_keyword', 0.7315483093261719),\n",
       " ('extracted_keywords', 0.7288671731948853),\n",
       " ('keyword_candidate', 0.7263339757919312),\n",
       " ('keyword_collection', 0.725800633430481),\n",
       " ('intent_deduction', 0.7196386456489563),\n",
       " ('keyword_structure', 0.7159174680709839),\n",
       " ('inputted_keyword', 0.7103204727172852),\n",
       " ('extraction_rule', 0.7097777128219604),\n",
       " ('notation_information', 0.7066026926040649),\n",
       " ('predetermined_language', 0.7063671350479126),\n",
       " ('word_identification', 0.7063573598861694),\n",
       " ('extracted_text_data', 0.7047103643417358),\n",
       " ('keyword_extraction_model', 0.7018555402755737)]"
      ]
     },
     "execution_count": 38,
     "metadata": {},
     "output_type": "execute_result"
    }
   ],
   "source": [
    "loadingModel1.wv.most_similar(positive = 'keyword_extraction',topn=15) "
   ]
  },
  {
   "cell_type": "code",
   "execution_count": 39,
   "metadata": {},
   "outputs": [
    {
     "name": "stderr",
     "output_type": "stream",
     "text": [
      "/opt/conda/lib/python3.6/site-packages/gensim/matutils.py:737: FutureWarning: Conversion of the second argument of issubdtype from `int` to `np.signedinteger` is deprecated. In future, it will be treated as `np.int64 == np.dtype(int).type`.\n",
      "  if np.issubdtype(vec.dtype, np.int):\n"
     ]
    },
    {
     "data": {
      "text/plain": [
       "[('laser-sintering', 0.6033260822296143),\n",
       " ('rapid-prototyping', 0.5870571136474609),\n",
       " ('stereolithography', 0.5709103941917419),\n",
       " ('layer-building', 0.5581253170967102),\n",
       " ('prototyping', 0.5550733208656311),\n",
       " ('cold-deforming', 0.5422365069389343),\n",
       " ('producing_objects', 0.5393032431602478),\n",
       " ('forming_processes', 0.5387687087059021),\n",
       " ('metal_alloy_products', 0.53722083568573),\n",
       " ('layer-structuring', 0.5273086428642273),\n",
       " ('metal_moulds', 0.52501380443573),\n",
       " ('desirable_diameter', 0.5212202072143555),\n",
       " ('dimensional_design', 0.5201540589332581),\n",
       " ('fixturing', 0.5185117721557617),\n",
       " ('tape-casting', 0.5176974534988403)]"
      ]
     },
     "execution_count": 39,
     "metadata": {},
     "output_type": "execute_result"
    }
   ],
   "source": [
    "loadingModel1.wv.most_similar(positive = '3d-printing',topn=15) Liquid crystal"
   ]
  },
  {
   "cell_type": "code",
   "execution_count": 40,
   "metadata": {},
   "outputs": [
    {
     "name": "stderr",
     "output_type": "stream",
     "text": [
      "/opt/conda/lib/python3.6/site-packages/gensim/matutils.py:737: FutureWarning: Conversion of the second argument of issubdtype from `int` to `np.signedinteger` is deprecated. In future, it will be treated as `np.int64 == np.dtype(int).type`.\n",
      "  if np.issubdtype(vec.dtype, np.int):\n"
     ]
    },
    {
     "data": {
      "text/plain": [
       "[('liquid_crystal_display_device', 0.726643443107605),\n",
       " ('liquid_crystals', 0.7091900110244751),\n",
       " ('threshold-value_proximity_determination', 0.6976737380027771),\n",
       " ('threshold-value_proximity', 0.6724210381507874),\n",
       " ('power_consumption_display', 0.6622976064682007),\n",
       " ('switch_liquid_crystal', 0.6555554866790771),\n",
       " ('optically_active_halogen-containing', 0.6493745446205139),\n",
       " ('middle_brightness', 0.6435137391090393),\n",
       " ('high_frequency_signal_line', 0.641011655330658),\n",
       " ('switch_liquid_crystal_panel', 0.6316613554954529),\n",
       " ('liquid_crystal-polymer', 0.628559947013855),\n",
       " ('switch_liquid', 0.6284197568893433),\n",
       " ('liquid-crystal_display', 0.6250630617141724),\n",
       " ('liquid-crystal_layer', 0.6204655766487122),\n",
       " ('liquid_crystal_fresnel', 0.6190611124038696)]"
      ]
     },
     "execution_count": 40,
     "metadata": {},
     "output_type": "execute_result"
    }
   ],
   "source": [
    "loadingModel1.wv.most_similar(positive = 'liquid_crystal',topn=15) "
   ]
  },
  {
   "cell_type": "code",
   "execution_count": 62,
   "metadata": {},
   "outputs": [
    {
     "name": "stderr",
     "output_type": "stream",
     "text": [
      "/opt/conda/lib/python3.6/site-packages/gensim/matutils.py:737: FutureWarning: Conversion of the second argument of issubdtype from `int` to `np.signedinteger` is deprecated. In future, it will be treated as `np.int64 == np.dtype(int).type`.\n",
      "  if np.issubdtype(vec.dtype, np.int):\n"
     ]
    },
    {
     "data": {
      "text/plain": [
       "[('laundry_detergent', 0.802082359790802),\n",
       " ('bleach_activator', 0.7764719724655151),\n",
       " ('detergent_compositions', 0.755036473274231),\n",
       " ('particulate_bleach_activator', 0.7499641180038452),\n",
       " ('laundry_composition', 0.7388801574707031),\n",
       " ('stable_bleach', 0.7365319132804871),\n",
       " ('particulate_bleach', 0.7357817888259888),\n",
       " ('particulate_detergent', 0.7334473729133606),\n",
       " ('improved_anti-filming_anti-spotting_properties', 0.7332920432090759),\n",
       " ('liquid_detergent_composition', 0.7325654029846191),\n",
       " ('oxygen_bleach', 0.7302818298339844),\n",
       " ('improved_anti-filming_anti-spotting', 0.7299396991729736),\n",
       " ('stable_bleach_activator', 0.729853630065918),\n",
       " ('improved_anti-filming', 0.7285085916519165),\n",
       " ('optionally_detergent', 0.7242922782897949),\n",
       " ('builder_salt', 0.7234102487564087),\n",
       " ('liquid_detergent', 0.7232364416122437),\n",
       " ('alkyl_saccharide-type', 0.7230480313301086),\n",
       " ('detergent-active_compound', 0.7217601537704468),\n",
       " ('fabric_washing', 0.7212092876434326),\n",
       " ('automatic_dishwashing', 0.7209811210632324),\n",
       " ('detergency_builder', 0.7097324132919312),\n",
       " ('peroxy_bleach', 0.7089786529541016),\n",
       " ('cleaning_composition', 0.7086827754974365),\n",
       " ('nonionic_detergent', 0.7086164355278015),\n",
       " ('alkyl_saccharide-type_surface', 0.7076772451400757),\n",
       " ('machine_dishwashing', 0.7070670127868652),\n",
       " ('detergent_active', 0.7058522701263428),\n",
       " ('granular_laundry_detergent', 0.705148458480835),\n",
       " ('laundry_detergent_composition', 0.7021250128746033)]"
      ]
     },
     "execution_count": 62,
     "metadata": {},
     "output_type": "execute_result"
    }
   ],
   "source": [
    "loadingModel1.wv.most_similar(positive = 'detergent_composition',topn=30) "
   ]
  },
  {
   "cell_type": "code",
   "execution_count": 3,
   "metadata": {},
   "outputs": [
    {
     "name": "stderr",
     "output_type": "stream",
     "text": [
      "/opt/conda/lib/python3.6/site-packages/gensim/matutils.py:737: FutureWarning: Conversion of the second argument of issubdtype from `int` to `np.signedinteger` is deprecated. In future, it will be treated as `np.int64 == np.dtype(int).type`.\n",
      "  if np.issubdtype(vec.dtype, np.int):\n"
     ]
    },
    {
     "data": {
      "text/plain": [
       "[('acetylsalicylic_acid', 0.646843671798706),\n",
       " ('analgetic_anti-inflammatory', 0.6298121213912964),\n",
       " ('nimodipine', 0.616990327835083),\n",
       " ('cilostazol', 0.6104862093925476),\n",
       " ('drug', 0.6058967113494873),\n",
       " ('acetylsalicylic', 0.6056667566299438),\n",
       " ('coadministration', 0.5987129211425781),\n",
       " ('pravastatin', 0.5952298641204834),\n",
       " ('diflunisal', 0.5810370445251465),\n",
       " ('tramadol', 0.5798283815383911),\n",
       " ('propranolol', 0.5795683860778809),\n",
       " ('statin', 0.5777613520622253),\n",
       " ('acemetacin', 0.5770701169967651),\n",
       " ('antacid', 0.5769877433776855),\n",
       " ('lercanidipine', 0.5743134617805481),\n",
       " ('excellent_antipyretic', 0.5729640126228333),\n",
       " ('gastric_irritation', 0.5726723670959473),\n",
       " ('slow-release_pharmaceutical', 0.5704309344291687),\n",
       " ('diclofenac', 0.5690686702728271),\n",
       " ('nsaid', 0.5665031671524048)]"
      ]
     },
     "execution_count": 3,
     "metadata": {},
     "output_type": "execute_result"
    }
   ],
   "source": [
    "loadingModel1.wv.most_similar(positive = 'aspirin',topn=20) "
   ]
  },
  {
   "cell_type": "code",
   "execution_count": 11,
   "metadata": {},
   "outputs": [
    {
     "name": "stderr",
     "output_type": "stream",
     "text": [
      "/opt/conda/lib/python3.6/site-packages/gensim/matutils.py:737: FutureWarning: Conversion of the second argument of issubdtype from `int` to `np.signedinteger` is deprecated. In future, it will be treated as `np.int64 == np.dtype(int).type`.\n",
      "  if np.issubdtype(vec.dtype, np.int):\n"
     ]
    },
    {
     "data": {
      "text/plain": [
       "[('raw_powder', 0.761328935623169),\n",
       " ('powdery_raw', 0.6618478298187256),\n",
       " ('magnetic-anisotropy_rare-earth', 0.6590190529823303),\n",
       " ('granulated_powder_coating', 0.6546440720558167),\n",
       " ('mixed_powder', 0.6518294811248779),\n",
       " ('rare-earth_alloy_powder', 0.6510320901870728),\n",
       " ('fine_powder', 0.6502518653869629),\n",
       " ('magnetic-anisotropy_rare-earth_sintered', 0.6476642489433289),\n",
       " ('magnetic-anisotropy_rare-earth_sintered_magnet', 0.6446993947029114),\n",
       " ('resultant_compact', 0.6433008909225464),\n",
       " ('kneaded_raw', 0.6429845094680786),\n",
       " ('powder_compact', 0.6375349760055542),\n",
       " ('resultant_grinding', 0.6366904973983765),\n",
       " ('granulated_powder_coating_composition', 0.6344162225723267),\n",
       " ('r-fe-b_type', 0.633592963218689),\n",
       " ('honeycomb_green', 0.6308858394622803),\n",
       " ('carbon-coated_porous_silica_powder', 0.6303110718727112),\n",
       " ('binder_addition', 0.6260312795639038),\n",
       " ('compacted_mixture', 0.6238269805908203),\n",
       " ('resultant_grinding_chips', 0.6226844787597656)]"
      ]
     },
     "execution_count": 11,
     "metadata": {},
     "output_type": "execute_result"
    }
   ],
   "source": [
    "loadingModel1.wv.most_similar(positive = 'granulated_powder',topn=20) "
   ]
  },
  {
   "cell_type": "code",
   "execution_count": 8,
   "metadata": {},
   "outputs": [
    {
     "name": "stderr",
     "output_type": "stream",
     "text": [
      "/opt/conda/lib/python3.6/site-packages/ipykernel_launcher.py:1: DeprecationWarning: Call to deprecated `similarity` (Method will be removed in 4.0.0, use self.wv.similarity() instead).\n",
      "  \"\"\"Entry point for launching an IPython kernel.\n",
      "/opt/conda/lib/python3.6/site-packages/gensim/matutils.py:737: FutureWarning: Conversion of the second argument of issubdtype from `int` to `np.signedinteger` is deprecated. In future, it will be treated as `np.int64 == np.dtype(int).type`.\n",
      "  if np.issubdtype(vec.dtype, np.int):\n"
     ]
    },
    {
     "data": {
      "text/plain": [
       "0.6445241"
      ]
     },
     "execution_count": 8,
     "metadata": {},
     "output_type": "execute_result"
    }
   ],
   "source": [
    "loadingModel1.similarity('search', 'query')"
   ]
  },
  {
   "cell_type": "code",
   "execution_count": 3,
   "metadata": {},
   "outputs": [
    {
     "data": {
      "text/plain": [
       "[('confined_semiconductor', 0.6783953309059143),\n",
       " ('quantum_turing', 0.6536656618118286),\n",
       " ('quantum_turing_machine', 0.6291880011558533),\n",
       " ('photon', 0.6256677508354187),\n",
       " ('exciton', 0.6119765043258667),\n",
       " ('carrier-amplifying', 0.6061438918113708),\n",
       " ('quantum_infrared_sensor', 0.6052411794662476),\n",
       " ('substrate_n-type_semiconductor_layer', 0.6035939455032349),\n",
       " ('heralding', 0.5993510484695435),\n",
       " ('fsqdt', 0.5934137105941772),\n",
       " ('excitonic', 0.5927374362945557),\n",
       " ('photonic', 0.5915307998657227),\n",
       " ('vc-trunk', 0.5900804996490479),\n",
       " ('iii-iv-v', 0.5885294079780579),\n",
       " ('nanocrystals', 0.5814549922943115),\n",
       " ('biotoxicity', 0.5814234018325806),\n",
       " ('solid-state_quantum', 0.5814192295074463),\n",
       " ('quantum_infrared', 0.5797653198242188),\n",
       " ('dsq', 0.5773178339004517),\n",
       " ('superlattice', 0.576924204826355)]"
      ]
     },
     "execution_count": 3,
     "metadata": {},
     "output_type": "execute_result"
    }
   ],
   "source": [
    "\n",
    "loadingModel1.wv.most_similar(positive = 'quantum',topn=20) "
   ]
  },
  {
   "cell_type": "code",
   "execution_count": 7,
   "metadata": {},
   "outputs": [
    {
     "data": {
      "text/plain": [
       "[('brain_tumor_therapy', 0.7690852284431458),\n",
       " ('brain_tumor_marker', 0.7442734241485596),\n",
       " ('metastatic_brain', 0.7424077391624451),\n",
       " ('brain_tumor_cells', 0.7326900362968445),\n",
       " ('metastatic_brain_lesions', 0.7086604833602905),\n",
       " ('human_gbm', 0.707332193851471),\n",
       " ('brain_tumor_recurrence', 0.6978563666343689),\n",
       " ('brain_tumors', 0.6937426924705505),\n",
       " ('ewing_sarcoma', 0.6875966191291809),\n",
       " ('primary_tumour', 0.6874547004699707),\n",
       " ('brain_tumor_treatment', 0.678930401802063),\n",
       " ('high-grade_gliomas', 0.676032543182373),\n",
       " ('malignant_melanoma', 0.6725265979766846),\n",
       " ('brain_tumor_tissue', 0.6715366244316101),\n",
       " ('breast_tumor', 0.6641906499862671),\n",
       " ('brain_cancer', 0.6633025407791138),\n",
       " ('tumor_response', 0.6576778888702393),\n",
       " ('higcs', 0.6571261882781982),\n",
       " ('breast_cancers', 0.6561543345451355),\n",
       " ('breast_cancer', 0.6540171504020691),\n",
       " ('primary_cancer', 0.6530386805534363),\n",
       " ('hormone-independent_prostate', 0.6511290073394775),\n",
       " ('specifically_breast', 0.6480848789215088),\n",
       " ('malignant_brain', 0.6468840837478638),\n",
       " ('primary_tumor', 0.646407961845398),\n",
       " ('metastatic_brain_tumor', 0.6451427340507507),\n",
       " ('ovarian_carcinoma', 0.6443972587585449),\n",
       " ('neoadjuvant_chemotherapy', 0.643796443939209),\n",
       " ('lung_adenocarcinoma', 0.6436685919761658),\n",
       " ('test_cancer', 0.6428688168525696)]"
      ]
     },
     "execution_count": 7,
     "metadata": {},
     "output_type": "execute_result"
    }
   ],
   "source": [
    "loadingModel1.wv.most_similar(positive = 'brain_tumor',topn=30)"
   ]
  },
  {
   "cell_type": "code",
   "execution_count": 11,
   "metadata": {},
   "outputs": [
    {
     "data": {
      "text/plain": [
       "[('structural_search_information', 0.8716284036636353),\n",
       " ('semantic_search_information', 0.8664823770523071),\n",
       " ('structural_search', 0.8567034006118774),\n",
       " ('signal_search_information', 0.8469070196151733),\n",
       " ('signal_search_information_elements', 0.8428893089294434),\n",
       " ('structural_search_information_elements', 0.8349260091781616),\n",
       " ('semantic_search_information_elements', 0.8337857723236084),\n",
       " ('semantic_search_engine', 0.7989951372146606),\n",
       " ('search_information_analyzing_unit', 0.7719176411628723),\n",
       " ('semantic_search_request', 0.7637098431587219),\n",
       " ('search_information_analyzing', 0.7564963102340698),\n",
       " ('signal_search', 0.7489092946052551),\n",
       " ('stored_semantic', 0.7120265960693359),\n",
       " ('retrieval_accuracy', 0.7089507579803467),\n",
       " ('chosen_instants', 0.7067665457725525),\n",
       " ('semantic_objects', 0.6973811984062195),\n",
       " ('semantic_feature', 0.6933131217956543),\n",
       " ('retrieval_program', 0.6808253526687622),\n",
       " ('query_generation_unit', 0.6808183193206787),\n",
       " ('keyword_candidate', 0.6735029220581055),\n",
       " ('content_correlation', 0.6733776330947876),\n",
       " ('query_cache', 0.6728664040565491),\n",
       " ('image_query', 0.6690654754638672),\n",
       " ('extraction_rule', 0.6686160564422607),\n",
       " ('image_retrieving', 0.6668126583099365),\n",
       " ('information_search_device', 0.6658651828765869),\n",
       " ('search_report', 0.6657016277313232),\n",
       " ('document_search_device', 0.6657012701034546),\n",
       " ('information_scent', 0.6599338054656982),\n",
       " ('search_rules', 0.6569797992706299)]"
      ]
     },
     "execution_count": 11,
     "metadata": {},
     "output_type": "execute_result"
    }
   ],
   "source": [
    "loadingModel1.wv.most_similar(positive = 'semantic_search',topn=30)"
   ]
  },
  {
   "cell_type": "code",
   "execution_count": null,
   "metadata": {},
   "outputs": [],
   "source": []
  }
 ],
 "metadata": {
  "kernelspec": {
   "display_name": "Python 3",
   "language": "python",
   "name": "python3"
  },
  "language_info": {
   "codemirror_mode": {
    "name": "ipython",
    "version": 3
   },
   "file_extension": ".py",
   "mimetype": "text/x-python",
   "name": "python",
   "nbconvert_exporter": "python",
   "pygments_lexer": "ipython3",
   "version": "3.7.3"
  }
 },
 "nbformat": 4,
 "nbformat_minor": 2
}
